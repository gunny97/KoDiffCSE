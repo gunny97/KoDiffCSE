{
 "cells": [
  {
   "cell_type": "markdown",
   "metadata": {},
   "source": [
    "### nli dataset (Train)"
   ]
  },
  {
   "cell_type": "code",
   "execution_count": 1,
   "metadata": {},
   "outputs": [
    {
     "name": "stderr",
     "output_type": "stream",
     "text": [
      "b'Skipping line 24426: expected 3 fields, saw 4\\nSkipping line 156343: expected 3 fields, saw 4\\nSkipping line 218766: expected 3 fields, saw 4\\nSkipping line 232318: expected 3 fields, saw 4\\nSkipping line 253493: expected 3 fields, saw 4\\n'\n",
      "b'Skipping line 265734: expected 3 fields, saw 4\\nSkipping line 282588: expected 3 fields, saw 4\\nSkipping line 350969: expected 3 fields, saw 4\\n'\n"
     ]
    }
   ],
   "source": [
    "import pandas as pd\n",
    "\n",
    "# train dataset 구축\n",
    "snli = pd.read_csv(\"snli_1.0_train.ko.tsv.txt\", sep='\\t')\n",
    "mnli = pd.read_csv(\"multinli.train.ko.tsv.txt\", sep='\\t', error_bad_lines=False)\n",
    "\n",
    "nli = pd.concat([snli,mnli],axis=0)\n",
    "nli.to_csv('koNLI.csv')\n",
    "\n",
    "read = pd.read_csv(\"koNLI.csv\")\n",
    "\n",
    "s1 = read['sentence1']\n",
    "s2 = read['sentence2']\n",
    "s1.columns = ['text']\n",
    "s2.columns = ['text']\n",
    "\n",
    "s_total = pd.concat([s1,s2],axis=0)\n",
    "s_total.drop_duplicates(inplace=True)\n",
    "s_total.columns = ['train']\n",
    "s_total = pd.DataFrame(s_total,columns=['train'])\n",
    "\n",
    "s_total = s_total.dropna(axis=0)\n",
    "s_total.isnull().sum()\n",
    "\n",
    "s_total.to_csv('diffcse_ko_text.txt',index=False)\n",
    "b = pd.read_csv(\"diffcse_ko_text.txt\")\n",
    "b"
   ]
  },
  {
   "cell_type": "markdown",
   "metadata": {},
   "source": [
    "### Kowiki (Train)"
   ]
  },
  {
   "cell_type": "code",
   "execution_count": null,
   "metadata": {},
   "outputs": [],
   "source": [
    "# kowiki\n",
    "import pickle\n",
    "import pandas as pd\n",
    "import csv\n",
    "from tqdm.auto import tqdm\n",
    "\n",
    "\n",
    "with open('data/kowiki.pkl','rb') as f:\n",
    "    data = pickle.load(f)\n",
    "\n",
    "\n",
    "\n",
    "with open('data/kowiki.tsv', 'w') as f:\n",
    "    tw = csv.writer(f, delimiter='\\t')\n",
    "    tw.writerow(['text'])\n",
    "    for doc in tqdm(data):\n",
    "        for text in doc:\n",
    "            tw.writerow([text])\n",
    "\n",
    "\n",
    "d = pd.read_csv('data/kowiki.tsv', sep='\\t')\n",
    "\n",
    "tsv_file = open('data/kowiki.tsv')\n",
    "txt_file = open(\"data/kowiki_convert.txt\", \"w\")\n",
    " \n",
    "\n",
    "read_tsv = csv.reader(tsv_file, delimiter=\"\\t\")\n",
    "\n",
    "for row in tqdm(read_tsv):\n",
    "    joined_string = \"\\t\".join(row)\n",
    "    txt_file.writelines(joined_string+'\\n')\n",
    " \n",
    "# close files\n",
    "txt_file.close()\n",
    "\n",
    "txt_data = pd.read_csv(\"data/kowiki_convert.txt\",sep='\\t')\n",
    "\n",
    "import pandas as pd\n",
    "\n",
    "txt_data = pd.read_csv(\"kowiki_convert.txt\", error_bad_lines=False)\n",
    "txt_data['train'] = txt_data['train'].str.strip()\n",
    "txt_data.drop_duplicates(inplace=True)\n",
    "txt_data = txt_data.dropna(axis=0)\n",
    "txt_data.isnull().sum()\n",
    "txt_data.to_csv('kowiki_convert.txt',index=False)"
   ]
  },
  {
   "cell_type": "markdown",
   "metadata": {},
   "source": [
    "### sts datset (valid/test)"
   ]
  },
  {
   "cell_type": "code",
   "execution_count": 15,
   "metadata": {},
   "outputs": [
    {
     "name": "stderr",
     "output_type": "stream",
     "text": [
      "b'Skipping line 711: expected 7 fields, saw 8\\nSkipping line 1067: expected 7 fields, saw 8\\nSkipping line 1084: expected 7 fields, saw 8\\nSkipping line 1138: expected 7 fields, saw 8\\nSkipping line 1151: expected 7 fields, saw 8\\n'\n"
     ]
    }
   ],
   "source": [
    "# valid/test dataset 구축\n",
    "\n",
    "import pandas as pd\n",
    "\n",
    "sts_dev = pd.read_csv(\"sts-dev.tsv.txt\", sep='\\t',error_bad_lines=False)\n",
    "sts_dev = sts_dev.dropna(axis=0)\n",
    "sts_dev = sts_dev[['sentence1','sentence2','score']]\n",
    "\n",
    "sts_test = pd.read_csv(\"sts-test.tsv.txt\", sep='\\t',error_bad_lines=False)\n",
    "sts_test = sts_test.dropna(axis=0)\n",
    "sts_test = sts_test[['sentence1','sentence2','score']]\n",
    "\n",
    "sts_dev.to_csv('ko_sts_dev.txt',index=False)\n",
    "sts_test.to_csv('ko_sts_test.txt',index=False)"
   ]
  },
  {
   "cell_type": "markdown",
   "metadata": {},
   "source": [
    "### Wiki + KorNLI"
   ]
  },
  {
   "cell_type": "code",
   "execution_count": 2,
   "metadata": {},
   "outputs": [],
   "source": [
    "import pandas as pd\n",
    "\n",
    "wiki = pd.read_csv('kowiki_convert.txt')\n",
    "nli = pd.read_csv('diffcse_ko_text.txt')"
   ]
  },
  {
   "cell_type": "code",
   "execution_count": 8,
   "metadata": {},
   "outputs": [
    {
     "data": {
      "text/html": [
       "<div>\n",
       "<style scoped>\n",
       "    .dataframe tbody tr th:only-of-type {\n",
       "        vertical-align: middle;\n",
       "    }\n",
       "\n",
       "    .dataframe tbody tr th {\n",
       "        vertical-align: top;\n",
       "    }\n",
       "\n",
       "    .dataframe thead th {\n",
       "        text-align: right;\n",
       "    }\n",
       "</style>\n",
       "<table border=\"1\" class=\"dataframe\">\n",
       "  <thead>\n",
       "    <tr style=\"text-align: right;\">\n",
       "      <th></th>\n",
       "      <th>train</th>\n",
       "    </tr>\n",
       "  </thead>\n",
       "  <tbody>\n",
       "    <tr>\n",
       "      <th>0</th>\n",
       "      <td>제임스 얼 카터 주니어이며, 독재자의 사신이라는 별명을 가지고 있다.</td>\n",
       "    </tr>\n",
       "    <tr>\n",
       "      <th>1</th>\n",
       "      <td>지미 카터는 조지아주 섬터 카운티 플레인스 마을에서 태어났다.</td>\n",
       "    </tr>\n",
       "    <tr>\n",
       "      <th>2</th>\n",
       "      <td>조지아 공과대학교를 졸업하였다.</td>\n",
       "    </tr>\n",
       "    <tr>\n",
       "      <th>3</th>\n",
       "      <td>그 후 해군에 들어가 전함·원자력·잠수함의 승무원으로 일하였다.</td>\n",
       "    </tr>\n",
       "    <tr>\n",
       "      <th>4</th>\n",
       "      <td>1953년 미국 해군 대위로 예편하였고 이후 땅콩·면화 등을 가꿔 많은 돈을 벌었다.</td>\n",
       "    </tr>\n",
       "  </tbody>\n",
       "</table>\n",
       "</div>"
      ],
      "text/plain": [
       "                                             train\n",
       "0           제임스 얼 카터 주니어이며, 독재자의 사신이라는 별명을 가지고 있다.\n",
       "1               지미 카터는 조지아주 섬터 카운티 플레인스 마을에서 태어났다.\n",
       "2                                조지아 공과대학교를 졸업하였다.\n",
       "3              그 후 해군에 들어가 전함·원자력·잠수함의 승무원으로 일하였다.\n",
       "4  1953년 미국 해군 대위로 예편하였고 이후 땅콩·면화 등을 가꿔 많은 돈을 벌었다."
      ]
     },
     "execution_count": 8,
     "metadata": {},
     "output_type": "execute_result"
    }
   ],
   "source": [
    "concat_txt = pd.concat([wiki,nli],axis=0)\n",
    "concat_txt.head()"
   ]
  },
  {
   "cell_type": "code",
   "execution_count": 11,
   "metadata": {},
   "outputs": [
    {
     "data": {
      "text/plain": [
       "(4102776, 1)"
      ]
     },
     "execution_count": 11,
     "metadata": {},
     "output_type": "execute_result"
    }
   ],
   "source": [
    "concat_txt.drop_duplicates(inplace=True)\n",
    "concat_txt = concat_txt.dropna(axis=0)\n",
    "concat_txt.shape"
   ]
  },
  {
   "cell_type": "code",
   "execution_count": 15,
   "metadata": {},
   "outputs": [],
   "source": [
    "concat_txt = concat_txt.sample(frac=1).reset_index(drop=True)"
   ]
  },
  {
   "cell_type": "code",
   "execution_count": 16,
   "metadata": {},
   "outputs": [],
   "source": [
    "concat_txt.to_csv('wiki_nli_sum.txt',index=False)"
   ]
  },
  {
   "cell_type": "code",
   "execution_count": null,
   "metadata": {},
   "outputs": [],
   "source": []
  }
 ],
 "metadata": {
  "kernelspec": {
   "display_name": "Python 3.9.12 ('KoDiffCSE': conda)",
   "language": "python",
   "name": "python3"
  },
  "language_info": {
   "codemirror_mode": {
    "name": "ipython",
    "version": 3
   },
   "file_extension": ".py",
   "mimetype": "text/x-python",
   "name": "python",
   "nbconvert_exporter": "python",
   "pygments_lexer": "ipython3",
   "version": "3.9.12"
  },
  "orig_nbformat": 4,
  "vscode": {
   "interpreter": {
    "hash": "b4c199caf109837f69b68a7f5cf9c98cdd88a078cc35e48eb39a3d0f9b5eb33c"
   }
  }
 },
 "nbformat": 4,
 "nbformat_minor": 2
}
