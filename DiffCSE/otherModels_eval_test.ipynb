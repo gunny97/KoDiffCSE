{
 "cells": [
  {
   "cell_type": "code",
   "execution_count": 1,
   "metadata": {},
   "outputs": [],
   "source": [
    "from sklearn.metrics.pairwise import paired_cosine_distances, paired_euclidean_distances, paired_manhattan_distances\n",
    "from scipy.stats import pearsonr, spearmanr\n",
    "import math"
   ]
  },
  {
   "cell_type": "code",
   "execution_count": 2,
   "metadata": {},
   "outputs": [],
   "source": [
    "def euclidean_distance(x,y):\n",
    "  \"\"\" return euclidean distance between two lists \"\"\"\n",
    " \n",
    "  return math.sqrt(sum(pow(a-b,2) for a, b in zip(x, y)))\n",
    "\n",
    "def squared_sum(x):\n",
    "  \"\"\" return 3 rounded square rooted value \"\"\"\n",
    " \n",
    "  return round(math.sqrt(sum([a*a for a in x])),3)\n",
    "  \n",
    "def cos_similarity(x,y):\n",
    "  \"\"\" return cosine similarity between two lists \"\"\"\n",
    " \n",
    "  numerator = sum(a*b for a,b in zip(x,y))\n",
    "  denominator = squared_sum(x)*squared_sum(y)\n",
    "  return round(numerator/float(denominator),3)"
   ]
  },
  {
   "cell_type": "code",
   "execution_count": 3,
   "metadata": {},
   "outputs": [],
   "source": [
    "import logging\n",
    "from tqdm import tqdm\n",
    "import numpy as np\n",
    "from numpy import ndarray\n",
    "import pandas as pd\n",
    "import torch\n",
    "from torch import Tensor, device\n",
    "import transformers\n",
    "from transformers import AutoModel, AutoTokenizer\n",
    "from sklearn.metrics.pairwise import cosine_similarity\n",
    "from sklearn.preprocessing import normalize\n",
    "from typing import List, Dict, Tuple, Type, Union\n",
    "from kobert_tokenizer import KoBertTokenizer\n",
    "\n",
    "from IPython.core.interactiveshell import InteractiveShell\n",
    "InteractiveShell.ast_node_interactivity = \"all\"\n",
    "\n",
    "logging.basicConfig(format='%(asctime)s - %(levelname)s - %(name)s -   %(message)s', datefmt='%m/%d/%Y %H:%M:%S',\n",
    "                    level=logging.INFO)\n",
    "logger = logging.getLogger(__name__)"
   ]
  },
  {
   "cell_type": "code",
   "execution_count": 4,
   "metadata": {},
   "outputs": [],
   "source": [
    "sts_dev = pd.read_csv(\"/home/keonwoo/anaconda3/envs/KoDiffCSE/data/ko_sts_dev.txt\")\n",
    "sts_test = pd.read_csv(\"/home/keonwoo/anaconda3/envs/KoDiffCSE/data/ko_sts_test.txt\")"
   ]
  },
  {
   "cell_type": "code",
   "execution_count": 33,
   "metadata": {},
   "outputs": [],
   "source": [
    "class SE_model(object):\n",
    "    \"\"\"\n",
    "    A class for embedding sentences, calculating similarities, and retriving sentences by DiffCSE. The code here is provided by SimCSE.\n",
    "    \"\"\"\n",
    "    def __init__(self, \n",
    "                seq2seq,\n",
    "                model_name_or_path: str, \n",
    "                device: str = None,\n",
    "                num_cells: int = 100,\n",
    "                num_cells_in_search: int = 10,\n",
    "                pooler = None):\n",
    "\n",
    "        self.tokenizer = AutoTokenizer.from_pretrained(model_name_or_path)\n",
    "        # self.tokenizer = KoBertTokenizer.from_pretrained(model_name_or_path)\n",
    "        self.model = AutoModel.from_pretrained(model_name_or_path)\n",
    "        if seq2seq:\n",
    "            self.model = self.model.encoder\n",
    "        if device is None:\n",
    "            device = \"cuda:1\" if torch.cuda.is_available() else \"cpu\"\n",
    "        self.device = device\n",
    "\n",
    "        self.index = None\n",
    "        self.is_faiss_index = False\n",
    "        self.num_cells = num_cells\n",
    "        self.num_cells_in_search = num_cells_in_search\n",
    "\n",
    "        if pooler is not None:\n",
    "            self.pooler = pooler\n",
    "        else:\n",
    "            logger.info(\"Use `cls_before_pooler` for DiffCSE models. If you want to use other pooling policy, specify `pooler` argument.\")\n",
    "            self.pooler = \"cls_before_pooler\"\n",
    "    \n",
    "    def encode(self, sentence: Union[str, List[str]], \n",
    "                device: str = None, \n",
    "                return_numpy: bool = False,\n",
    "                normalize_to_unit: bool = True,\n",
    "                keepdim: bool = False,\n",
    "                batch_size: int = 64,\n",
    "                max_length: int = 128) -> Union[ndarray, Tensor]:\n",
    "\n",
    "        target_device = self.device if device is None else device\n",
    "        self.model = self.model.to(target_device)\n",
    "        \n",
    "        single_sentence = False\n",
    "        if isinstance(sentence, str):\n",
    "            sentence = [sentence]\n",
    "            single_sentence = True\n",
    "\n",
    "        embedding_list = [] \n",
    "        with torch.no_grad():\n",
    "            total_batch = len(sentence) // batch_size + (1 if len(sentence) % batch_size > 0 else 0)\n",
    "            for batch_id in tqdm(range(total_batch)):\n",
    "                inputs = self.tokenizer(\n",
    "                    sentence[batch_id*batch_size:(batch_id+1)*batch_size], \n",
    "                    padding=True, \n",
    "                    truncation=True, \n",
    "                    max_length=max_length, \n",
    "                    return_tensors=\"pt\"\n",
    "                )\n",
    "                inputs = {k: v.to(target_device) for k, v in inputs.items()}\n",
    "                outputs = self.model(**inputs, return_dict=True)\n",
    "                if self.pooler == \"cls\":\n",
    "                    embeddings = outputs.pooler_output\n",
    "                elif self.pooler == \"cls_before_pooler\":\n",
    "                    embeddings = outputs.last_hidden_state[:, 0]\n",
    "                else:\n",
    "                    raise NotImplementedError\n",
    "                if normalize_to_unit:\n",
    "                    embeddings = embeddings / embeddings.norm(dim=1, keepdim=True)\n",
    "                embedding_list.append(embeddings.cpu())\n",
    "        embeddings = torch.cat(embedding_list, 0)\n",
    "        \n",
    "        if single_sentence and not keepdim:\n",
    "            embeddings = embeddings[0]\n",
    "        \n",
    "        if return_numpy and not isinstance(embeddings, ndarray):\n",
    "            return embeddings.numpy()\n",
    "        return embeddings\n",
    "    \n",
    "    def similarity(self, queries: Union[str, List[str]], \n",
    "                    keys: Union[str, List[str], ndarray], \n",
    "                    device: str = None) -> Union[float, ndarray]:\n",
    "        \n",
    "        query_vecs = self.encode(queries, device=device, return_numpy=True) # suppose N queries\n",
    "        \n",
    "        if not isinstance(keys, ndarray):\n",
    "            key_vecs = self.encode(keys, device=device, return_numpy=True) # suppose M keys\n",
    "        else:\n",
    "            key_vecs = keys\n",
    "\n",
    "        # check whether N == 1 or M == 1\n",
    "        single_query, single_key = len(query_vecs.shape) == 1, len(key_vecs.shape) == 1 \n",
    "        if single_query:\n",
    "            query_vecs = query_vecs.reshape(1, -1)\n",
    "        if single_key:\n",
    "            key_vecs = key_vecs.reshape(1, -1)\n",
    "        \n",
    "        # returns an N*M similarity array\n",
    "        similarities = cosine_similarity(query_vecs, key_vecs)\n",
    "        \n",
    "        if single_query:\n",
    "            similarities = similarities[0]\n",
    "            if single_key:\n",
    "                similarities = float(similarities[0])\n",
    "        \n",
    "        return similarities\n",
    "    \n",
    "    def build_index(self, sentences_or_file_path: Union[str, List[str]], \n",
    "                        use_faiss: bool = None,\n",
    "                        faiss_fast: bool = False,\n",
    "                        device: str = None,\n",
    "                        batch_size: int = 64):\n",
    "\n",
    "        if use_faiss is None or use_faiss:\n",
    "            try:\n",
    "                import faiss\n",
    "                assert hasattr(faiss, \"IndexFlatIP\")\n",
    "                use_faiss = True \n",
    "            except:\n",
    "                logger.warning(\"Fail to import faiss. If you want to use faiss, install faiss through PyPI. Now the program continues with brute force search.\")\n",
    "                use_faiss = False\n",
    "        \n",
    "        # if the input sentence is a string, we assume it's the path of file that stores various sentences\n",
    "        if isinstance(sentences_or_file_path, str):\n",
    "            sentences = []\n",
    "            with open(sentences_or_file_path, \"r\") as f:\n",
    "                logging.info(\"Loading sentences from %s ...\" % (sentences_or_file_path))\n",
    "                for line in tqdm(f):\n",
    "                    sentences.append(line.rstrip())\n",
    "            sentences_or_file_path = sentences\n",
    "        \n",
    "        logger.info(\"Encoding embeddings for sentences...\")\n",
    "        embeddings = self.encode(sentences_or_file_path, device=device, batch_size=batch_size, normalize_to_unit=True, return_numpy=True)\n",
    "\n",
    "        logger.info(\"Building index...\")\n",
    "        self.index = {\"sentences\": sentences_or_file_path}\n",
    "        \n",
    "        if use_faiss:\n",
    "            quantizer = faiss.IndexFlatIP(embeddings.shape[1])  \n",
    "            if faiss_fast:\n",
    "                index = faiss.IndexIVFFlat(quantizer, embeddings.shape[1], min(self.num_cells, len(sentences_or_file_path))) \n",
    "            else:\n",
    "                index = quantizer\n",
    "\n",
    "            if (self.device == \"cuda\" and device != \"cpu\") or device == \"cuda\":\n",
    "                if hasattr(faiss, \"StandardGpuResources\"):\n",
    "                    logger.info(\"Use GPU-version faiss\")\n",
    "                    res = faiss.StandardGpuResources()\n",
    "                    res.setTempMemory(20 * 1024 * 1024 * 1024)\n",
    "                    index = faiss.index_cpu_to_gpu(res, 0, index)\n",
    "                else:\n",
    "                    logger.info(\"Use CPU-version faiss\")\n",
    "            else: \n",
    "                logger.info(\"Use CPU-version faiss\")\n",
    "\n",
    "            if faiss_fast:            \n",
    "                index.train(embeddings.astype(np.float32))\n",
    "            index.add(embeddings.astype(np.float32))\n",
    "            index.nprobe = min(self.num_cells_in_search, len(sentences_or_file_path))\n",
    "            self.is_faiss_index = True\n",
    "        else:\n",
    "            index = embeddings\n",
    "            self.is_faiss_index = False\n",
    "        self.index[\"index\"] = index\n",
    "        logger.info(\"Finished\")\n",
    "    \n",
    "    def search(self, queries: Union[str, List[str]], \n",
    "                device: str = None, \n",
    "                threshold: float = 0,\n",
    "                top_k: int = 5) -> Union[List[Tuple[str, float]], List[List[Tuple[str, float]]]]:\n",
    "        \n",
    "        if not self.is_faiss_index:\n",
    "            if isinstance(queries, list):\n",
    "                combined_results = []\n",
    "                for query in queries:\n",
    "                    results = self.search(query, device)\n",
    "                    combined_results.append(results)\n",
    "                return combined_results\n",
    "            \n",
    "            similarities = self.similarity(queries, self.index[\"index\"]).tolist()\n",
    "            id_and_score = []\n",
    "            for i, s in enumerate(similarities):\n",
    "                if s >= threshold:\n",
    "                    id_and_score.append((i, s))\n",
    "            id_and_score = sorted(id_and_score, key=lambda x: x[1], reverse=True)[:top_k]\n",
    "            results = [(self.index[\"sentences\"][idx], score) for idx, score in id_and_score]\n",
    "            return results\n",
    "        else:\n",
    "            query_vecs = self.encode(queries, device=device, normalize_to_unit=True, keepdim=True, return_numpy=True)\n",
    "\n",
    "            distance, idx = self.index[\"index\"].search(query_vecs.astype(np.float32), top_k)\n",
    "            \n",
    "            def pack_single_result(dist, idx):\n",
    "                results = [(self.index[\"sentences\"][i], s) for i, s in zip(idx, dist) if s >= threshold]\n",
    "                return results\n",
    "            \n",
    "            if isinstance(queries, list):\n",
    "                combined_results = []\n",
    "                for i in range(len(queries)):\n",
    "                    results = pack_single_result(distance[i], idx[i])\n",
    "                    combined_results.append(results)\n",
    "                return combined_results\n",
    "            else:\n",
    "                return pack_single_result(distance[0], idx[0])"
   ]
  },
  {
   "cell_type": "code",
   "execution_count": 27,
   "metadata": {},
   "outputs": [],
   "source": [
    "def evaluation(eval_dataset,model):\n",
    "    sen_emb1 = model.encode(eval_dataset['sentence1'].tolist())\n",
    "    sen_emb2 = model.encode(eval_dataset['sentence2'].tolist())\n",
    "    labels = eval_dataset['score']\n",
    "\n",
    "    cosine_scores = 1 - (paired_cosine_distances(sen_emb1, sen_emb2))\n",
    "    manhattan_distances = -paired_manhattan_distances(sen_emb1, sen_emb2)\n",
    "    euclidean_distances = -paired_euclidean_distances(sen_emb1, sen_emb2)\n",
    "    dot_products = [np.dot(emb1, emb2) for emb1, emb2 in zip(sen_emb1, sen_emb2)]\n",
    "    \n",
    "    eval_pearson_cosine, _ = pearsonr(labels, cosine_scores)\n",
    "    eval_spearman_cosine, _ = spearmanr(labels, cosine_scores)\n",
    "\n",
    "    eval_pearson_manhattan, _ = pearsonr(labels, manhattan_distances)\n",
    "    eval_spearman_manhattan, _ = spearmanr(labels, manhattan_distances)\n",
    "\n",
    "    eval_pearson_euclidean, _ = pearsonr(labels, euclidean_distances)\n",
    "    eval_spearman_euclidean, _ = spearmanr(labels, euclidean_distances)\n",
    "\n",
    "    eval_pearson_dot, _ = pearsonr(labels, dot_products)\n",
    "    eval_spearman_dot, _ = spearmanr(labels, dot_products)\n",
    "\n",
    "    score = {'eval_pearson_cosine': eval_pearson_cosine,\n",
    "            'eval_spearman_cosine': eval_spearman_cosine,\n",
    "            'eval_pearson_manhattan': eval_pearson_manhattan,\n",
    "            'eval_spearman_manhattan': eval_spearman_manhattan,\n",
    "            'eval_pearson_euclidean': eval_pearson_euclidean,\n",
    "            'eval_spearman_euclidean': eval_spearman_euclidean,\n",
    "            'eval_pearson_dot': eval_pearson_dot,\n",
    "            'eval_spearman_dot': eval_spearman_dot}\n",
    "    return score"
   ]
  },
  {
   "cell_type": "markdown",
   "metadata": {},
   "source": [
    "### ko-SROBERTA"
   ]
  },
  {
   "cell_type": "code",
   "execution_count": 9,
   "metadata": {},
   "outputs": [
    {
     "name": "stderr",
     "output_type": "stream",
     "text": [
      "08/02/2022 16:15:07 - INFO - __main__ -   Use `cls_before_pooler` for DiffCSE models. If you want to use other pooling policy, specify `pooler` argument.\n"
     ]
    }
   ],
   "source": [
    "model_name = \"jhgan/ko-sroberta-multitask\"\n",
    "sroberta = SE_model(model_name)"
   ]
  },
  {
   "cell_type": "code",
   "execution_count": 10,
   "metadata": {},
   "outputs": [
    {
     "name": "stderr",
     "output_type": "stream",
     "text": [
      "100%|██████████| 23/23 [00:01<00:00, 12.18it/s]\n",
      "100%|██████████| 23/23 [00:01<00:00, 12.87it/s]\n"
     ]
    },
    {
     "data": {
      "text/plain": [
       "{'eval_pearson_cosine': 0.8235922346436934,\n",
       " 'eval_spearman_cosine': 0.8306339848688392,\n",
       " 'eval_pearson_manhattan': 0.8340475913066008,\n",
       " 'eval_spearman_manhattan': 0.8308704946645719,\n",
       " 'eval_pearson_euclidean': 0.8338403027148542,\n",
       " 'eval_spearman_euclidean': 0.8306342868724003,\n",
       " 'eval_pearson_dot': 0.8235922284981624,\n",
       " 'eval_spearman_dot': 0.8306336245663968}"
      ]
     },
     "execution_count": 10,
     "metadata": {},
     "output_type": "execute_result"
    }
   ],
   "source": [
    "evaluation(sts_dev, sroberta)"
   ]
  },
  {
   "cell_type": "code",
   "execution_count": 11,
   "metadata": {},
   "outputs": [
    {
     "name": "stderr",
     "output_type": "stream",
     "text": [
      "100%|██████████| 22/22 [00:01<00:00, 14.99it/s]\n",
      "100%|██████████| 22/22 [00:01<00:00, 15.23it/s]\n"
     ]
    },
    {
     "data": {
      "text/plain": [
       "{'eval_pearson_cosine': 0.7633258046589375,\n",
       " 'eval_spearman_cosine': 0.7766879477066665,\n",
       " 'eval_pearson_manhattan': 0.783168845374605,\n",
       " 'eval_spearman_manhattan': 0.7757696904826148,\n",
       " 'eval_pearson_euclidean': 0.7837702254917288,\n",
       " 'eval_spearman_euclidean': 0.7766907576440633,\n",
       " 'eval_pearson_dot': 0.7633257906623869,\n",
       " 'eval_spearman_dot': 0.7766857288655976}"
      ]
     },
     "execution_count": 11,
     "metadata": {},
     "output_type": "execute_result"
    }
   ],
   "source": [
    "evaluation(sts_test, sroberta)"
   ]
  },
  {
   "cell_type": "markdown",
   "metadata": {},
   "source": [
    "### XLM"
   ]
  },
  {
   "cell_type": "code",
   "execution_count": 12,
   "metadata": {},
   "outputs": [
    {
     "data": {
      "application/vnd.jupyter.widget-view+json": {
       "model_id": "2bf14602fd5643dfbf421bfa8d93e1a3",
       "version_major": 2,
       "version_minor": 0
      },
      "text/plain": [
       "HBox(children=(FloatProgress(value=0.0, description='Downloading', max=615.0, style=ProgressStyle(description_…"
      ]
     },
     "metadata": {},
     "output_type": "display_data"
    },
    {
     "name": "stdout",
     "output_type": "stream",
     "text": [
      "\n"
     ]
    },
    {
     "data": {
      "application/vnd.jupyter.widget-view+json": {
       "model_id": "6d0c209c5ea247b19e55cecb4d13ff4b",
       "version_major": 2,
       "version_minor": 0
      },
      "text/plain": [
       "HBox(children=(FloatProgress(value=0.0, description='Downloading', max=5069051.0, style=ProgressStyle(descript…"
      ]
     },
     "metadata": {},
     "output_type": "display_data"
    },
    {
     "name": "stdout",
     "output_type": "stream",
     "text": [
      "\n"
     ]
    },
    {
     "data": {
      "application/vnd.jupyter.widget-view+json": {
       "model_id": "5e30b583b1c34631ad42cc69c907f7de",
       "version_major": 2,
       "version_minor": 0
      },
      "text/plain": [
       "HBox(children=(FloatProgress(value=0.0, description='Downloading', max=9096718.0, style=ProgressStyle(descript…"
      ]
     },
     "metadata": {},
     "output_type": "display_data"
    },
    {
     "name": "stdout",
     "output_type": "stream",
     "text": [
      "\n"
     ]
    },
    {
     "data": {
      "application/vnd.jupyter.widget-view+json": {
       "model_id": "1d6593b77ea04d429c1a0e3a4ad5ccd5",
       "version_major": 2,
       "version_minor": 0
      },
      "text/plain": [
       "HBox(children=(FloatProgress(value=0.0, description='Downloading', max=1115590446.0, style=ProgressStyle(descr…"
      ]
     },
     "metadata": {},
     "output_type": "display_data"
    },
    {
     "name": "stdout",
     "output_type": "stream",
     "text": [
      "\n"
     ]
    },
    {
     "name": "stderr",
     "output_type": "stream",
     "text": [
      "08/02/2022 16:18:40 - INFO - __main__ -   Use `cls_before_pooler` for DiffCSE models. If you want to use other pooling policy, specify `pooler` argument.\n"
     ]
    }
   ],
   "source": [
    "model_name = \"xlm-roberta-base\"\n",
    "xlm = SE_model(model_name)"
   ]
  },
  {
   "cell_type": "code",
   "execution_count": 13,
   "metadata": {},
   "outputs": [
    {
     "name": "stderr",
     "output_type": "stream",
     "text": [
      "100%|██████████| 23/23 [00:01<00:00, 12.11it/s]\n",
      "100%|██████████| 23/23 [00:01<00:00, 11.88it/s]\n"
     ]
    },
    {
     "data": {
      "text/plain": [
       "{'eval_pearson_cosine': 0.15857128888690109,\n",
       " 'eval_spearman_cosine': 0.35752388818577313,\n",
       " 'eval_pearson_manhattan': 0.3647729118482682,\n",
       " 'eval_spearman_manhattan': 0.4494821851771784,\n",
       " 'eval_pearson_euclidean': 0.2525653234069045,\n",
       " 'eval_spearman_euclidean': 0.3575227482478141,\n",
       " 'eval_pearson_dot': 0.15857250021070793,\n",
       " 'eval_spearman_dot': 0.35752701848700713}"
      ]
     },
     "execution_count": 13,
     "metadata": {},
     "output_type": "execute_result"
    }
   ],
   "source": [
    "evaluation(sts_dev, xlm)"
   ]
  },
  {
   "cell_type": "code",
   "execution_count": 14,
   "metadata": {},
   "outputs": [
    {
     "name": "stderr",
     "output_type": "stream",
     "text": [
      "100%|██████████| 22/22 [00:01<00:00, 13.19it/s]\n",
      "100%|██████████| 22/22 [00:01<00:00, 16.02it/s]\n"
     ]
    },
    {
     "data": {
      "text/plain": [
       "{'eval_pearson_cosine': 0.10143291340818458,\n",
       " 'eval_spearman_cosine': 0.3073667621946652,\n",
       " 'eval_pearson_manhattan': 0.29167672012112594,\n",
       " 'eval_spearman_manhattan': 0.38190490644713543,\n",
       " 'eval_pearson_euclidean': 0.19762502245081698,\n",
       " 'eval_spearman_euclidean': 0.3073634280991161,\n",
       " 'eval_pearson_dot': 0.10143153065131222,\n",
       " 'eval_spearman_dot': 0.3073755940861359}"
      ]
     },
     "execution_count": 14,
     "metadata": {},
     "output_type": "execute_result"
    }
   ],
   "source": [
    "evaluation(sts_test, xlm)"
   ]
  },
  {
   "cell_type": "markdown",
   "metadata": {},
   "source": [
    "### EASE"
   ]
  },
  {
   "cell_type": "code",
   "execution_count": 15,
   "metadata": {},
   "outputs": [
    {
     "data": {
      "application/vnd.jupyter.widget-view+json": {
       "model_id": "8e7433e6e2b045a996a2b8db08798e19",
       "version_major": 2,
       "version_minor": 0
      },
      "text/plain": [
       "HBox(children=(FloatProgress(value=0.0, description='Downloading', max=914.0, style=ProgressStyle(description_…"
      ]
     },
     "metadata": {},
     "output_type": "display_data"
    },
    {
     "name": "stdout",
     "output_type": "stream",
     "text": [
      "\n"
     ]
    },
    {
     "data": {
      "application/vnd.jupyter.widget-view+json": {
       "model_id": "debc752dc5e348abb7c53d474e08d2f3",
       "version_major": 2,
       "version_minor": 0
      },
      "text/plain": [
       "HBox(children=(FloatProgress(value=0.0, description='Downloading', max=995526.0, style=ProgressStyle(descripti…"
      ]
     },
     "metadata": {},
     "output_type": "display_data"
    },
    {
     "name": "stdout",
     "output_type": "stream",
     "text": [
      "\n"
     ]
    },
    {
     "data": {
      "application/vnd.jupyter.widget-view+json": {
       "model_id": "16d64235e51a4afb8aa70be111db69db",
       "version_major": 2,
       "version_minor": 0
      },
      "text/plain": [
       "HBox(children=(FloatProgress(value=0.0, description='Downloading', max=1961847.0, style=ProgressStyle(descript…"
      ]
     },
     "metadata": {},
     "output_type": "display_data"
    },
    {
     "name": "stdout",
     "output_type": "stream",
     "text": [
      "\n"
     ]
    },
    {
     "data": {
      "application/vnd.jupyter.widget-view+json": {
       "model_id": "277f1b15de9c4d91b7ed44b9b2a235ba",
       "version_major": 2,
       "version_minor": 0
      },
      "text/plain": [
       "HBox(children=(FloatProgress(value=0.0, description='Downloading', max=112.0, style=ProgressStyle(description_…"
      ]
     },
     "metadata": {},
     "output_type": "display_data"
    },
    {
     "name": "stdout",
     "output_type": "stream",
     "text": [
      "\n"
     ]
    },
    {
     "data": {
      "application/vnd.jupyter.widget-view+json": {
       "model_id": "f5a5f820092f432196305b0dfa61b83d",
       "version_major": 2,
       "version_minor": 0
      },
      "text/plain": [
       "HBox(children=(FloatProgress(value=0.0, description='Downloading', max=537.0, style=ProgressStyle(description_…"
      ]
     },
     "metadata": {},
     "output_type": "display_data"
    },
    {
     "name": "stdout",
     "output_type": "stream",
     "text": [
      "\n"
     ]
    },
    {
     "data": {
      "application/vnd.jupyter.widget-view+json": {
       "model_id": "99ca6b334c0a45e9976b66ca7c51868f",
       "version_major": 2,
       "version_minor": 0
      },
      "text/plain": [
       "HBox(children=(FloatProgress(value=0.0, description='Downloading', max=711492337.0, style=ProgressStyle(descri…"
      ]
     },
     "metadata": {},
     "output_type": "display_data"
    },
    {
     "name": "stdout",
     "output_type": "stream",
     "text": [
      "\n"
     ]
    },
    {
     "name": "stderr",
     "output_type": "stream",
     "text": [
      "08/02/2022 16:20:23 - INFO - __main__ -   Use `cls_before_pooler` for DiffCSE models. If you want to use other pooling policy, specify `pooler` argument.\n"
     ]
    }
   ],
   "source": [
    "model_name = \"sosuke/ease-bert-base-multilingual-cased\"\n",
    "EASE_model = SE_model(model_name)"
   ]
  },
  {
   "cell_type": "code",
   "execution_count": 16,
   "metadata": {},
   "outputs": [
    {
     "name": "stderr",
     "output_type": "stream",
     "text": [
      "100%|██████████| 23/23 [00:01<00:00, 11.54it/s]\n",
      "100%|██████████| 23/23 [00:02<00:00, 11.14it/s]\n"
     ]
    },
    {
     "data": {
      "text/plain": [
       "{'eval_pearson_cosine': 0.6571814839737603,\n",
       " 'eval_spearman_cosine': 0.6894279583297167,\n",
       " 'eval_pearson_manhattan': 0.6871026115656402,\n",
       " 'eval_spearman_manhattan': 0.6894776620854263,\n",
       " 'eval_pearson_euclidean': 0.6869649746372406,\n",
       " 'eval_spearman_euclidean': 0.6894273581426218,\n",
       " 'eval_pearson_dot': 0.6571814999732488,\n",
       " 'eval_spearman_dot': 0.6894282655243558}"
      ]
     },
     "execution_count": 16,
     "metadata": {},
     "output_type": "execute_result"
    }
   ],
   "source": [
    "evaluation(sts_dev, EASE_model)"
   ]
  },
  {
   "cell_type": "code",
   "execution_count": 17,
   "metadata": {},
   "outputs": [
    {
     "name": "stderr",
     "output_type": "stream",
     "text": [
      "100%|██████████| 22/22 [00:01<00:00, 12.33it/s]\n",
      "100%|██████████| 22/22 [00:01<00:00, 13.47it/s]\n"
     ]
    },
    {
     "data": {
      "text/plain": [
       "{'eval_pearson_cosine': 0.5710576355138167,\n",
       " 'eval_spearman_cosine': 0.6125899662303511,\n",
       " 'eval_pearson_manhattan': 0.6070152843357819,\n",
       " 'eval_spearman_manhattan': 0.6113629797592428,\n",
       " 'eval_pearson_euclidean': 0.6081834863996942,\n",
       " 'eval_spearman_euclidean': 0.612591546988357,\n",
       " 'eval_pearson_dot': 0.5710575169624974,\n",
       " 'eval_spearman_dot': 0.6125946278397131}"
      ]
     },
     "execution_count": 17,
     "metadata": {},
     "output_type": "execute_result"
    }
   ],
   "source": [
    "evaluation(sts_test, EASE_model)"
   ]
  },
  {
   "cell_type": "markdown",
   "metadata": {},
   "source": [
    "### mBERT"
   ]
  },
  {
   "cell_type": "code",
   "execution_count": 18,
   "metadata": {},
   "outputs": [
    {
     "data": {
      "application/vnd.jupyter.widget-view+json": {
       "model_id": "91edd262c0fd46d68b45ae99cff18a1f",
       "version_major": 2,
       "version_minor": 0
      },
      "text/plain": [
       "HBox(children=(FloatProgress(value=0.0, description='Downloading', max=574.0, style=ProgressStyle(description_…"
      ]
     },
     "metadata": {},
     "output_type": "display_data"
    },
    {
     "name": "stdout",
     "output_type": "stream",
     "text": [
      "\n"
     ]
    },
    {
     "data": {
      "application/vnd.jupyter.widget-view+json": {
       "model_id": "d60196cd07a64c0694e6c8de7f59dd30",
       "version_major": 2,
       "version_minor": 0
      },
      "text/plain": [
       "HBox(children=(FloatProgress(value=0.0, description='Downloading', max=1231748.0, style=ProgressStyle(descript…"
      ]
     },
     "metadata": {},
     "output_type": "display_data"
    },
    {
     "name": "stdout",
     "output_type": "stream",
     "text": [
      "\n"
     ]
    },
    {
     "data": {
      "application/vnd.jupyter.widget-view+json": {
       "model_id": "bab8645d15d44746b186e65b9224b924",
       "version_major": 2,
       "version_minor": 0
      },
      "text/plain": [
       "HBox(children=(FloatProgress(value=0.0, description='Downloading', max=2440214.0, style=ProgressStyle(descript…"
      ]
     },
     "metadata": {},
     "output_type": "display_data"
    },
    {
     "name": "stdout",
     "output_type": "stream",
     "text": [
      "\n"
     ]
    },
    {
     "data": {
      "application/vnd.jupyter.widget-view+json": {
       "model_id": "f2765d74964f419e99a7bbc15f53770d",
       "version_major": 2,
       "version_minor": 0
      },
      "text/plain": [
       "HBox(children=(FloatProgress(value=0.0, description='Downloading', max=112.0, style=ProgressStyle(description_…"
      ]
     },
     "metadata": {},
     "output_type": "display_data"
    },
    {
     "name": "stdout",
     "output_type": "stream",
     "text": [
      "\n"
     ]
    },
    {
     "data": {
      "application/vnd.jupyter.widget-view+json": {
       "model_id": "23f5f834039e43c7bacbb5a2e5628953",
       "version_major": 2,
       "version_minor": 0
      },
      "text/plain": [
       "HBox(children=(FloatProgress(value=0.0, description='Downloading', max=484.0, style=ProgressStyle(description_…"
      ]
     },
     "metadata": {},
     "output_type": "display_data"
    },
    {
     "name": "stdout",
     "output_type": "stream",
     "text": [
      "\n"
     ]
    },
    {
     "data": {
      "application/vnd.jupyter.widget-view+json": {
       "model_id": "13efd9d8ceee4fdba874a71cac189d13",
       "version_major": 2,
       "version_minor": 0
      },
      "text/plain": [
       "HBox(children=(FloatProgress(value=0.0, description='Downloading', max=624555631.0, style=ProgressStyle(descri…"
      ]
     },
     "metadata": {},
     "output_type": "display_data"
    },
    {
     "name": "stdout",
     "output_type": "stream",
     "text": [
      "\n"
     ]
    },
    {
     "name": "stderr",
     "output_type": "stream",
     "text": [
      "08/02/2022 16:25:48 - INFO - __main__ -   Use `cls_before_pooler` for DiffCSE models. If you want to use other pooling policy, specify `pooler` argument.\n"
     ]
    }
   ],
   "source": [
    "model_name = \"bongsoo/mdistilbertV1.1\"\n",
    "mbert = SE_model(model_name)"
   ]
  },
  {
   "cell_type": "code",
   "execution_count": 19,
   "metadata": {},
   "outputs": [
    {
     "name": "stderr",
     "output_type": "stream",
     "text": [
      "100%|██████████| 23/23 [00:00<00:00, 23.18it/s]\n",
      "100%|██████████| 23/23 [00:00<00:00, 30.34it/s]\n"
     ]
    },
    {
     "data": {
      "text/plain": [
       "{'eval_pearson_cosine': 0.6001289439562228,\n",
       " 'eval_spearman_cosine': 0.6034266435390286,\n",
       " 'eval_pearson_manhattan': 0.6100265875086988,\n",
       " 'eval_spearman_manhattan': 0.6031005113076003,\n",
       " 'eval_pearson_euclidean': 0.6099035868420458,\n",
       " 'eval_spearman_euclidean': 0.6034265882765772,\n",
       " 'eval_pearson_dot': 0.6001289349133595,\n",
       " 'eval_spearman_dot': 0.6034260590209415}"
      ]
     },
     "execution_count": 19,
     "metadata": {},
     "output_type": "execute_result"
    }
   ],
   "source": [
    "evaluation(sts_dev, mbert)"
   ]
  },
  {
   "cell_type": "code",
   "execution_count": 20,
   "metadata": {},
   "outputs": [
    {
     "name": "stderr",
     "output_type": "stream",
     "text": [
      "100%|██████████| 22/22 [00:00<00:00, 30.82it/s]\n",
      "100%|██████████| 22/22 [00:00<00:00, 26.92it/s]\n"
     ]
    },
    {
     "data": {
      "text/plain": [
       "{'eval_pearson_cosine': 0.5275364053314909,\n",
       " 'eval_spearman_cosine': 0.5182592279194106,\n",
       " 'eval_pearson_manhattan': 0.5383089948304676,\n",
       " 'eval_spearman_manhattan': 0.5188866936083439,\n",
       " 'eval_pearson_euclidean': 0.5377250926082614,\n",
       " 'eval_spearman_euclidean': 0.5182585571550561,\n",
       " 'eval_pearson_dot': 0.5275364030857164,\n",
       " 'eval_spearman_dot': 0.5182623577999687}"
      ]
     },
     "execution_count": 20,
     "metadata": {},
     "output_type": "execute_result"
    }
   ],
   "source": [
    "evaluation(sts_test, mbert)"
   ]
  },
  {
   "cell_type": "markdown",
   "metadata": {},
   "source": [
    "### mT5"
   ]
  },
  {
   "cell_type": "code",
   "execution_count": 35,
   "metadata": {},
   "outputs": [
    {
     "name": "stderr",
     "output_type": "stream",
     "text": [
      "Some weights of the model checkpoint at google/mt5-base were not used when initializing MT5Model: ['lm_head.weight']\n",
      "- This IS expected if you are initializing MT5Model from the checkpoint of a model trained on another task or with another architecture (e.g. initializing a BertForSequenceClassification model from a BertForPreTraining model).\n",
      "- This IS NOT expected if you are initializing MT5Model from the checkpoint of a model that you expect to be exactly identical (initializing a BertForSequenceClassification model from a BertForSequenceClassification model).\n",
      "08/02/2022 16:53:08 - INFO - __main__ -   Use `cls_before_pooler` for DiffCSE models. If you want to use other pooling policy, specify `pooler` argument.\n"
     ]
    }
   ],
   "source": [
    "model_name = \"google/mt5-base\"\n",
    "mT5 = SE_model(True, model_name)"
   ]
  },
  {
   "cell_type": "code",
   "execution_count": 36,
   "metadata": {},
   "outputs": [
    {
     "name": "stderr",
     "output_type": "stream",
     "text": [
      "100%|██████████| 23/23 [00:01<00:00, 15.67it/s]\n",
      "100%|██████████| 23/23 [00:01<00:00, 16.33it/s]\n"
     ]
    },
    {
     "data": {
      "text/plain": [
       "{'eval_pearson_cosine': 0.12282037434944885,\n",
       " 'eval_spearman_cosine': 0.14623620457569753,\n",
       " 'eval_pearson_manhattan': 0.13827270990010335,\n",
       " 'eval_spearman_manhattan': 0.1211560521994656,\n",
       " 'eval_pearson_euclidean': 0.1374188430913635,\n",
       " 'eval_spearman_euclidean': 0.14623609100452273,\n",
       " 'eval_pearson_dot': 0.12282035521313545,\n",
       " 'eval_spearman_dot': 0.14623636483364894}"
      ]
     },
     "execution_count": 36,
     "metadata": {},
     "output_type": "execute_result"
    }
   ],
   "source": [
    "evaluation(sts_dev, mT5)"
   ]
  },
  {
   "cell_type": "code",
   "execution_count": 37,
   "metadata": {},
   "outputs": [
    {
     "name": "stderr",
     "output_type": "stream",
     "text": [
      "100%|██████████| 22/22 [00:02<00:00,  8.85it/s]\n",
      "100%|██████████| 22/22 [00:01<00:00, 11.24it/s]\n"
     ]
    },
    {
     "data": {
      "text/plain": [
       "{'eval_pearson_cosine': 0.09406104296210874,\n",
       " 'eval_spearman_cosine': 0.09993770245733527,\n",
       " 'eval_pearson_manhattan': 0.11564662553151268,\n",
       " 'eval_spearman_manhattan': 0.11670778272524364,\n",
       " 'eval_pearson_euclidean': 0.10921812224695854,\n",
       " 'eval_spearman_euclidean': 0.09994107875252256,\n",
       " 'eval_pearson_dot': 0.09406104149777514,\n",
       " 'eval_spearman_dot': 0.09994928773421191}"
      ]
     },
     "execution_count": 37,
     "metadata": {},
     "output_type": "execute_result"
    }
   ],
   "source": [
    "evaluation(sts_test, mT5)"
   ]
  },
  {
   "cell_type": "markdown",
   "metadata": {},
   "source": [
    "### KET5"
   ]
  },
  {
   "cell_type": "code",
   "execution_count": 38,
   "metadata": {},
   "outputs": [
    {
     "data": {
      "application/vnd.jupyter.widget-view+json": {
       "model_id": "ec7a4512d2e944ac880a5f37534b8530",
       "version_major": 2,
       "version_minor": 0
      },
      "text/plain": [
       "HBox(children=(FloatProgress(value=0.0, description='Downloading', max=599.0, style=ProgressStyle(description_…"
      ]
     },
     "metadata": {},
     "output_type": "display_data"
    },
    {
     "name": "stdout",
     "output_type": "stream",
     "text": [
      "\n"
     ]
    },
    {
     "data": {
      "application/vnd.jupyter.widget-view+json": {
       "model_id": "9243fa29c8af4769920860df6e73d431",
       "version_major": 2,
       "version_minor": 0
      },
      "text/plain": [
       "HBox(children=(FloatProgress(value=0.0, description='Downloading', max=1466734.0, style=ProgressStyle(descript…"
      ]
     },
     "metadata": {},
     "output_type": "display_data"
    },
    {
     "name": "stdout",
     "output_type": "stream",
     "text": [
      "\n"
     ]
    },
    {
     "data": {
      "application/vnd.jupyter.widget-view+json": {
       "model_id": "bc25c7b740034db98c12aabc807c86e2",
       "version_major": 2,
       "version_minor": 0
      },
      "text/plain": [
       "HBox(children=(FloatProgress(value=0.0, description='Downloading', max=1786.0, style=ProgressStyle(description…"
      ]
     },
     "metadata": {},
     "output_type": "display_data"
    },
    {
     "name": "stdout",
     "output_type": "stream",
     "text": [
      "\n"
     ]
    },
    {
     "data": {
      "application/vnd.jupyter.widget-view+json": {
       "model_id": "135ffbddf7b64c8f84d9546eca1461ec",
       "version_major": 2,
       "version_minor": 0
      },
      "text/plain": [
       "HBox(children=(FloatProgress(value=0.0, description='Downloading', max=1964.0, style=ProgressStyle(description…"
      ]
     },
     "metadata": {},
     "output_type": "display_data"
    },
    {
     "name": "stdout",
     "output_type": "stream",
     "text": [
      "\n"
     ]
    },
    {
     "data": {
      "application/vnd.jupyter.widget-view+json": {
       "model_id": "ba0aec968b6b444a9217d8da362598e5",
       "version_major": 2,
       "version_minor": 0
      },
      "text/plain": [
       "HBox(children=(FloatProgress(value=0.0, description='Downloading', max=990048016.0, style=ProgressStyle(descri…"
      ]
     },
     "metadata": {},
     "output_type": "display_data"
    },
    {
     "name": "stdout",
     "output_type": "stream",
     "text": [
      "\n"
     ]
    },
    {
     "name": "stderr",
     "output_type": "stream",
     "text": [
      "Some weights of the model checkpoint at KETI-AIR/ke-t5-base were not used when initializing T5Model: ['lm_head.weight']\n",
      "- This IS expected if you are initializing T5Model from the checkpoint of a model trained on another task or with another architecture (e.g. initializing a BertForSequenceClassification model from a BertForPreTraining model).\n",
      "- This IS NOT expected if you are initializing T5Model from the checkpoint of a model that you expect to be exactly identical (initializing a BertForSequenceClassification model from a BertForSequenceClassification model).\n",
      "08/02/2022 16:54:04 - INFO - __main__ -   Use `cls_before_pooler` for DiffCSE models. If you want to use other pooling policy, specify `pooler` argument.\n"
     ]
    }
   ],
   "source": [
    "model_name = \"KETI-AIR/ke-t5-base\"\n",
    "keT5 = SE_model(True, model_name)"
   ]
  },
  {
   "cell_type": "code",
   "execution_count": 39,
   "metadata": {},
   "outputs": [
    {
     "name": "stderr",
     "output_type": "stream",
     "text": [
      "100%|██████████| 23/23 [00:02<00:00,  9.48it/s]\n",
      "100%|██████████| 23/23 [00:01<00:00, 12.91it/s]\n"
     ]
    },
    {
     "data": {
      "text/plain": [
       "{'eval_pearson_cosine': 0.25325630257295256,\n",
       " 'eval_spearman_cosine': 0.2507158529857863,\n",
       " 'eval_pearson_manhattan': 0.270132898490969,\n",
       " 'eval_spearman_manhattan': 0.25174994286188124,\n",
       " 'eval_pearson_euclidean': 0.2702215148087061,\n",
       " 'eval_spearman_euclidean': 0.2507142800848121,\n",
       " 'eval_pearson_dot': 0.2532563118797479,\n",
       " 'eval_spearman_dot': 0.2507185852481801}"
      ]
     },
     "execution_count": 39,
     "metadata": {},
     "output_type": "execute_result"
    }
   ],
   "source": [
    "evaluation(sts_dev, keT5)"
   ]
  },
  {
   "cell_type": "code",
   "execution_count": 40,
   "metadata": {},
   "outputs": [
    {
     "name": "stderr",
     "output_type": "stream",
     "text": [
      "100%|██████████| 22/22 [00:01<00:00, 11.95it/s]\n",
      "100%|██████████| 22/22 [00:01<00:00, 13.56it/s]\n"
     ]
    },
    {
     "data": {
      "text/plain": [
       "{'eval_pearson_cosine': 0.16178171162500965,\n",
       " 'eval_spearman_cosine': 0.1748727834214834,\n",
       " 'eval_pearson_manhattan': 0.1888581875427734,\n",
       " 'eval_spearman_manhattan': 0.17201728900221488,\n",
       " 'eval_pearson_euclidean': 0.18932171989947139,\n",
       " 'eval_spearman_euclidean': 0.17487468683313417,\n",
       " 'eval_pearson_dot': 0.16178171867356078,\n",
       " 'eval_spearman_dot': 0.1748723039554667}"
      ]
     },
     "execution_count": 40,
     "metadata": {},
     "output_type": "execute_result"
    }
   ],
   "source": [
    "evaluation(sts_test, keT5)"
   ]
  },
  {
   "cell_type": "code",
   "execution_count": null,
   "metadata": {},
   "outputs": [],
   "source": []
  }
 ],
 "metadata": {
  "kernelspec": {
   "display_name": "keonwoo_neo",
   "language": "python",
   "name": "python3"
  },
  "language_info": {
   "codemirror_mode": {
    "name": "ipython",
    "version": 3
   },
   "file_extension": ".py",
   "mimetype": "text/x-python",
   "name": "python",
   "nbconvert_exporter": "python",
   "pygments_lexer": "ipython3",
   "version": "3.8.13 (default, Mar 28 2022, 06:59:08) [MSC v.1916 64 bit (AMD64)]"
  },
  "orig_nbformat": 4,
  "vscode": {
   "interpreter": {
    "hash": "473a17fb9c005091cf4353665de455d9c74d3d37a8dc30122c5c3420cae1d5ac"
   }
  }
 },
 "nbformat": 4,
 "nbformat_minor": 2
}
